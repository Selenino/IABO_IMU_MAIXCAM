{
  "nbformat": 4,
  "nbformat_minor": 0,
  "metadata": {
    "colab": {
      "provenance": []
    },
    "kernelspec": {
      "name": "python3",
      "display_name": "Python 3"
    },
    "language_info": {
      "name": "python"
    }
  },
  "cells": [
    {
      "cell_type": "code",
      "source": [
        "import pandas as pd\n",
        "import numpy as np\n",
        "from scipy.stats import skew, kurtosis\n",
        "import os\n",
        "\n",
        "# Archivos CSV a procesar\n",
        "archivos = [\n",
        "    \"saludo_mano_1_recortado.csv\",\n",
        "    \"saludo_mano_2_recortado.csv\",\n",
        "    \"saludo_mano_3_recortado.csv\"\n",
        "]\n",
        "\n",
        "# Columnas a procesar\n",
        "columnas = [\"acc_x\", \"acc_y\", \"acc_z\", \"gyro_x\", \"gyro_y\", \"gyro_z\"]\n",
        "\n",
        "# Tamaño de ventana\n",
        "ventana = 100\n",
        "\n",
        "for archivo in archivos:\n",
        "    # Leer CSV\n",
        "    df = pd.read_csv(archivo)\n",
        "\n",
        "    estadisticas = []\n",
        "\n",
        "    # Número de ventanas enteras\n",
        "    n_ventanas = len(df) // ventana\n",
        "\n",
        "    for i in range(n_ventanas):\n",
        "        inicio = i * ventana\n",
        "        fin = inicio + ventana\n",
        "        segmento = df.iloc[inicio:fin]\n",
        "\n",
        "        fila_stats = {\"ventana\": i + 1}\n",
        "\n",
        "        for col in columnas:\n",
        "            datos = segmento[col].dropna()\n",
        "\n",
        "            fila_stats[f\"{col}__mean\"] = np.mean(datos)\n",
        "            fila_stats[f\"{col}__var\"] = np.var(datos)\n",
        "            fila_stats[f\"{col}__std\"] = np.std(datos)\n",
        "            fila_stats[f\"{col}__skew\"] = skew(datos)\n",
        "            fila_stats[f\"{col}__kurtosis\"] = kurtosis(datos)\n",
        "\n",
        "        estadisticas.append(fila_stats)\n",
        "\n",
        "    # Convertir a DataFrame\n",
        "    df_estadisticas = pd.DataFrame(estadisticas)\n",
        "\n",
        "    # Nombre del archivo de salida\n",
        "    nombre, ext = os.path.splitext(archivo)\n",
        "    archivo_salida = f\"{nombre}_estadisticas.csv\"\n",
        "\n",
        "    # Guardar\n",
        "    df_estadisticas.to_csv(archivo_salida, index=False)\n",
        "\n",
        "    print(f\"✅ Archivo generado: {archivo_salida}\")\n"
      ],
      "metadata": {
        "colab": {
          "base_uri": "https://localhost:8080/"
        },
        "id": "7PVwajRarZqK",
        "outputId": "93e478f6-0519-4e76-f106-8f206186874a"
      },
      "execution_count": 8,
      "outputs": [
        {
          "output_type": "stream",
          "name": "stdout",
          "text": [
            "✅ Archivo generado: saludo_mano_1_recortado_estadisticas.csv\n",
            "✅ Archivo generado: saludo_mano_2_recortado_estadisticas.csv\n",
            "✅ Archivo generado: saludo_mano_3_recortado_estadisticas.csv\n"
          ]
        }
      ]
    },
    {
      "cell_type": "code",
      "source": [
        "import pandas as pd\n",
        "\n",
        "archivo = \"basket_1_recortado.csv\"\n",
        "df = pd.read_csv(archivo)\n",
        "\n",
        "print(\"👉 Columnas encontradas en el archivo:\")\n",
        "print(df.columns)\n"
      ],
      "metadata": {
        "colab": {
          "base_uri": "https://localhost:8080/"
        },
        "id": "svXvburvrMB0",
        "outputId": "fb0aa43a-7991-4546-ebaa-5f837d2e3bd7"
      },
      "execution_count": 3,
      "outputs": [
        {
          "output_type": "stream",
          "name": "stdout",
          "text": [
            "👉 Columnas encontradas en el archivo:\n",
            "Index(['time', 'acc_x', 'acc_y', 'acc_z', 'gyro_x', 'gyro_y', 'gyro_z'], dtype='object')\n"
          ]
        }
      ]
    }
  ]
}